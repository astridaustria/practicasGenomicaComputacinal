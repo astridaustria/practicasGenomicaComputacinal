{
 "cells": [
  {
   "cell_type": "markdown",
   "metadata": {},
   "source": [
    "# Genómica Computacional\n",
    "## Práctica 02 - Herramientas bioinformáticas (Python)"
   ]
  },
  {
   "cell_type": "markdown",
   "metadata": {},
   "source": [
    "1) Escribir un programa que me permita aplicar el 10% de descuento si la compra total es mayor a $100."
   ]
  },
  {
   "cell_type": "markdown",
   "metadata": {},
   "source": [
    "2) Sabiendo que la fórmula para obtener el área de un triángulo es a = (b x h) / 2, donde b es la longitud de la base del triángulo, y h es su altura. Escribir un programa que permita realizar el cálculo del área de un triángulo. Si el área contiene valores decimales, imprimir el resultado con dos dígitos. "
   ]
  },
  {
   "cell_type": "markdown",
   "metadata": {},
   "source": [
    "3) La fórmula para el Índice de Masa Corportal es *IMC = kg/m2* donde kg es el peso de la persona en kilogramos y m2 es la altura en metros al cuadrado. Realizar un programa que calcula el IMC cuando se le provee el peso y la altura. "
   ]
  }
 ],
 "metadata": {
  "kernelspec": {
   "display_name": "Python 3",
   "language": "python",
   "name": "python3"
  },
  "language_info": {
   "codemirror_mode": {
    "name": "ipython",
    "version": 3
   },
   "file_extension": ".py",
   "mimetype": "text/x-python",
   "name": "python",
   "nbconvert_exporter": "python",
   "pygments_lexer": "ipython3",
   "version": "3.8.3"
  }
 },
 "nbformat": 4,
 "nbformat_minor": 2
}

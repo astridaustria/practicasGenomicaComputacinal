{
 "cells": [
  {
   "cell_type": "code",
   "execution_count": 1,
   "metadata": {},
   "outputs": [
    {
     "name": "stdout",
     "output_type": "stream",
     "text": [
      "135.0\n"
     ]
    }
   ],
   "source": [
    "# Escribir un programa que me haga el 10% de descuento si la compra es mayor a 100\n",
    "compra = 150\n",
    "if compra > 100:\n",
    "    print (compra * .90)\n",
    "else:\n",
    "    print (\"No se aplica descuento\")"
   ]
  },
  {
   "cell_type": "code",
   "execution_count": 2,
   "metadata": {},
   "outputs": [
    {
     "name": "stdout",
     "output_type": "stream",
     "text": [
      "300.0\n"
     ]
    }
   ],
   "source": [
    "# calcular el area de un triangulo \n",
    "b = 20\n",
    "h = 30\n",
    "a = (b * h)/2\n",
    "print (a)"
   ]
  },
  {
   "cell_type": "code",
   "execution_count": 3,
   "metadata": {},
   "outputs": [
    {
     "name": "stdout",
     "output_type": "stream",
     "text": [
      "20.70081674131507\n"
     ]
    }
   ],
   "source": [
    "# calcula el Indice de Masa Corporal\n",
    "kg = 55\n",
    "h = 1.63 ** 2\n",
    "IMC = kg / h\n",
    "print (IMC)"
   ]
  },
  {
   "cell_type": "code",
   "execution_count": null,
   "metadata": {},
   "outputs": [],
   "source": []
  }
 ],
 "metadata": {
  "kernelspec": {
   "display_name": "Python 3",
   "language": "python",
   "name": "python3"
  },
  "language_info": {
   "codemirror_mode": {
    "name": "ipython",
    "version": 3
   },
   "file_extension": ".py",
   "mimetype": "text/x-python",
   "name": "python",
   "nbconvert_exporter": "python",
   "pygments_lexer": "ipython3",
   "version": "3.8.3"
  }
 },
 "nbformat": 4,
 "nbformat_minor": 4
}
